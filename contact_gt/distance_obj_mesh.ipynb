{
 "cells": [
  {
   "cell_type": "markdown",
   "metadata": {},
   "source": [
    "# Distance Computation\n",
    "\n",
    "Non-functional\n",
    "\n",
    "A script to compute the distance from each hand-joint to the object, based on the object meshes.\n",
    "\n",
    "Output:\n",
    "- Distance map for each sequence: NDArray (N, 42) for N frames per sequence\n",
    "  - 21 (left hand) + 21 (right hand) distances from joints\n",
    "\n",
    "----"
   ]
  },
  {
   "cell_type": "markdown",
   "metadata": {},
   "source": [
    "Imports"
   ]
  },
  {
   "cell_type": "code",
   "execution_count": 2,
   "metadata": {},
   "outputs": [],
   "source": [
    "import sys\n",
    "sys.path.append('..')\n",
    "import os\n",
    "import numpy as np\n",
    "from numpy.typing import NDArray\n",
    "import open3d as o3d\n",
    "import tqdm\n",
    "from typing import List\n",
    "import utils.transformations as tf\n",
    "import utils.data_format as data_format"
   ]
  },
  {
   "cell_type": "markdown",
   "metadata": {},
   "source": [
    "Parameters"
   ]
  },
  {
   "cell_type": "code",
   "execution_count": 21,
   "metadata": {},
   "outputs": [],
   "source": [
    "n_frames_per_seq : int = 8\n",
    "n_point_samples : int = 100\n",
    "mode = 'val' # 'train' , 'val' , 'test'\n",
    "\n",
    "h2o_root = '../data/h2o/'\n",
    "sample_root = h2o_root + f'seq_{n_frames_per_seq}_{mode}/'"
   ]
  },
  {
   "cell_type": "markdown",
   "metadata": {},
   "source": [
    "## Script"
   ]
  },
  {
   "cell_type": "markdown",
   "metadata": {},
   "source": [
    "Helpers"
   ]
  },
  {
   "cell_type": "code",
   "execution_count": 22,
   "metadata": {},
   "outputs": [],
   "source": [
    "obj_mesh_files = {\n",
    "    0: '1_book.ply',\n",
    "    1: '2_espresso.ply',\n",
    "    2: '3_lotion.ply',\n",
    "    3: '4_spray.ply',\n",
    "    4: '5_milk.ply',\n",
    "    5: '6_cocoa.ply',\n",
    "    6: '7_chips.ply',\n",
    "    7: '8_cappuccino.ply'\n",
    "}\n",
    "\n",
    "def sample_points(n_samples: int, obj_mesh_dir: str) -> NDArray:\n",
    "    mesh_samples = []\n",
    "    for i in range(8):\n",
    "        mesh = o3d.io.read_triangle_mesh(obj_mesh_dir + obj_mesh_files[i])\n",
    "        pc = mesh.sample_points_poisson_disk(number_of_points=n_samples, init_factor=10)\n",
    "        mesh_samples.append(np.asarray(pc.points))\n",
    "    mesh_samples = np.array(mesh_samples)\n",
    "    return mesh_samples\n"
   ]
  },
  {
   "cell_type": "code",
   "execution_count": 23,
   "metadata": {},
   "outputs": [],
   "source": [
    "def compute_distance(hand_poses: NDArray, obj_samples: NDArray, T_CO: NDArray) -> NDArray:\n",
    "    assert len(obj_samples.shape) == 2 and obj_samples.shape[1] == 3, \\\n",
    "        f\"obj_samples should be of shape (N, 3) but got {obj_samples.shape}\"\n",
    "    assert len(hand_poses.shape) == 2 and hand_poses.shape[1] == 3, \\\n",
    "        f\"hand_poses should be of shape (N, 3) but got {hand_poses.shape}\"\n",
    "    assert T_CO.shape == (4, 4), f\"T_CO should be of shape (4, 4) but got {T_CO.shape}\"\n",
    "    \n",
    "    # transform mesh points\n",
    "    obj_samples = tf.transfrom_pts_cart(obj_samples, T_CO)\n",
    "\n",
    "    # compute distance from every joint to all object samples\n",
    "    n_joints = hand_poses.shape[0]\n",
    "    n_samples = obj_samples.shape[0]\n",
    "    distances = np.zeros((n_joints, n_samples))\n",
    "    for i in range(n_joints):\n",
    "        joint = hand_poses[i]\n",
    "        distances[i] = np.linalg.norm(obj_samples - joint, axis=1)\n",
    "    \n",
    "    # compute minimal distance for each joint\n",
    "    return np.min(distances, axis=1)"
   ]
  },
  {
   "cell_type": "markdown",
   "metadata": {},
   "source": [
    "Preparations"
   ]
  },
  {
   "cell_type": "code",
   "execution_count": 24,
   "metadata": {},
   "outputs": [
    {
     "name": "stdout",
     "output_type": "stream",
     "text": [
      "Loaded 122 action sequences for val.\n"
     ]
    }
   ],
   "source": [
    "# Load number of sequences for selected mode\n",
    "sample_ids = np.load(sample_root + 'sample_ids.npy')\n",
    "n_sequences = sample_ids.shape[0]\n",
    "print(f\"Loaded {n_sequences} action sequences for {mode}.\")\n",
    "# load the object classes for all sequences\n",
    "obj_classes = np.load(sample_root + f'obj_classes_{mode}.npy')\n",
    "assert obj_classes.shape == (n_sequences,)\n",
    "\n",
    "# path handling\n",
    "hand_dir = sample_root + f'poses_hand_{mode}/'\n",
    "obj_rt_dir = sample_root + f'obj_rt_{mode}/'\n",
    "obj_mesh_dir = h2o_root + 'object_meshes/'\n",
    "dist_dir = sample_root + f'distances_{mode}/'\n",
    "os.makedirs(dist_dir, exist_ok=True) # create the destination directory\n"
   ]
  },
  {
   "cell_type": "code",
   "execution_count": 25,
   "metadata": {},
   "outputs": [
    {
     "name": "stdout",
     "output_type": "stream",
     "text": [
      "Sampled points on object meshes. Shape: (8, 100, 3)\n"
     ]
    }
   ],
   "source": [
    "# sample 100 points on every mesh\n",
    "obj_samples = sample_points(n_point_samples, obj_mesh_dir)\n",
    "print(\"Sampled points on object meshes. Shape:\", obj_samples.shape)"
   ]
  },
  {
   "cell_type": "code",
   "execution_count": 26,
   "metadata": {},
   "outputs": [
    {
     "name": "stdout",
     "output_type": "stream",
     "text": [
      "Successfully computed the distances for 122 sequences.\n"
     ]
    }
   ],
   "source": [
    "for seq_id in range(1, n_sequences+1):\n",
    "    distance_sequence = []\n",
    "\n",
    "    # get poses of current sequence\n",
    "    hand_poses = np.load(hand_dir + f'{seq_id:03d}.npy')\n",
    "    obj_rts = np.load(obj_rt_dir + f'{seq_id:03d}.npy')\n",
    "    assert hand_poses.shape == (n_frames_per_seq, 128)\n",
    "    assert obj_rts.shape == (n_frames_per_seq, 4, 4)\n",
    "\n",
    "    obj_class = obj_classes[seq_id-1] # seq_id is 1-indexed\n",
    "\n",
    "    for frame_id in range(n_frames_per_seq):\n",
    "        hand_left, hand_right = data_format.format_hand_poses(hand_poses[frame_id])\n",
    "        joints = np.concatenate((hand_left, hand_right), axis=0)\n",
    "        T_CO = obj_rts[frame_id]\n",
    "        \n",
    "        distance_sequence.append(compute_distance(joints, obj_samples[obj_class-1], T_CO))\n",
    "    \n",
    "    distance_sequence = np.array(distance_sequence)\n",
    "    np.save(dist_dir + f'{seq_id:03d}.npy', distance_sequence)\n",
    "\n",
    "print(f\"Successfully computed the distances for {seq_id} sequences.\")"
   ]
  }
 ],
 "metadata": {
  "kernelspec": {
   "display_name": "3dv",
   "language": "python",
   "name": "python3"
  },
  "language_info": {
   "codemirror_mode": {
    "name": "ipython",
    "version": 3
   },
   "file_extension": ".py",
   "mimetype": "text/x-python",
   "name": "python",
   "nbconvert_exporter": "python",
   "pygments_lexer": "ipython3",
   "version": "3.11.8"
  }
 },
 "nbformat": 4,
 "nbformat_minor": 2
}
