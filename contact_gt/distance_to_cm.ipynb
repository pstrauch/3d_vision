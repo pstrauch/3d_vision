{
 "cells": [
  {
   "cell_type": "code",
   "execution_count": 4,
   "metadata": {},
   "outputs": [],
   "source": [
    "import os\n",
    "import numpy as np"
   ]
  },
  {
   "cell_type": "code",
   "execution_count": 11,
   "metadata": {},
   "outputs": [
    {
     "name": "stdout",
     "output_type": "stream",
     "text": [
      "Loaded 122 action sequences for val.\n"
     ]
    }
   ],
   "source": [
    "th = 0.02\n",
    "n_frames_per_seq : int = 8\n",
    "n_point_samples : int = 100\n",
    "mode = 'val' # 'train' , 'val' , 'test'\n",
    "\n",
    "h2o_root = '../data/h2o/'\n",
    "sample_root = h2o_root + f'seq_{n_frames_per_seq}_{mode}/'\n",
    "dist_dir = sample_root + f'distances_{mode}/'\n",
    "cm_dir = sample_root + f'cm_{mode}/'\n",
    "os.makedirs(cm_dir, exist_ok=True) # create the destination directory\n",
    "\n",
    "# Load number of sequences for selected mode\n",
    "sample_ids = np.load(sample_root + 'sample_ids.npy')\n",
    "n_sequences = sample_ids.shape[0]\n",
    "print(f\"Loaded {n_sequences} action sequences for {mode}.\")"
   ]
  },
  {
   "cell_type": "code",
   "execution_count": 12,
   "metadata": {},
   "outputs": [
    {
     "name": "stdout",
     "output_type": "stream",
     "text": [
      "Success.\n"
     ]
    }
   ],
   "source": [
    "for i in range(1, n_sequences+1):\n",
    "    # load distances\n",
    "    dist = np.load(dist_dir + f'{i:03d}.npy')\n",
    "\n",
    "    # apply threshold\n",
    "    cm = (dist < th).astype(int)\n",
    "\n",
    "    # save to new file\n",
    "    np.save(cm_dir + f'{i:03d}.npy', cm)\n",
    "\n",
    "print(\"Success.\")"
   ]
  }
 ],
 "metadata": {
  "kernelspec": {
   "display_name": "3dv",
   "language": "python",
   "name": "python3"
  },
  "language_info": {
   "codemirror_mode": {
    "name": "ipython",
    "version": 3
   },
   "file_extension": ".py",
   "mimetype": "text/x-python",
   "name": "python",
   "nbconvert_exporter": "python",
   "pygments_lexer": "ipython3",
   "version": "3.11.8"
  }
 },
 "nbformat": 4,
 "nbformat_minor": 2
}
