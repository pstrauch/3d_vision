{
 "cells": [
  {
   "cell_type": "markdown",
   "metadata": {},
   "source": [
    "# Frame Sequence Extractor\n",
    "\n",
    "Extracts frame sequences from the dataset.\n",
    "\n",
    "### Preparation\n",
    "\n",
    "- Place the h2odataset in the following directory relative to the workspace:\n",
    "`data/h2o/h2odataset`\n",
    "\n",
    "### Run\n",
    "\n",
    "- Import the required packages and set the required parameters\n",
    "- Select the required mode by running the corresponding cell (only)\n",
    "- If you use a pre-computed sample_ids array, make sure to have placed it in `data/h2o/seq_n_mode/sample_ids.npy`\n",
    "- Follow along the cells in a chapter to extract the corresponding data\n",
    "\n",
    "### Output\n",
    "\n",
    "- The extracted data is saved in numpy's .npy files in `data/h2o` in corresponding folders. \n",
    "- For example, the 8 frame sequences for training are stored int `data/h2o/frame_seq_8_train/`.\n",
    "- Images are stored in the format HxWxC in RGB format\n",
    "- The name of the files corresponds to the id provided in the action files of the dataset (e.g. 001.npy).\n",
    "\n",
    "---"
   ]
  },
  {
   "cell_type": "markdown",
   "metadata": {},
   "source": [
    "#### Imports"
   ]
  },
  {
   "cell_type": "code",
   "execution_count": 12,
   "metadata": {},
   "outputs": [],
   "source": [
    "import os\n",
    "import cv2\n",
    "import numpy as np\n",
    "from numpy.typing import NDArray\n",
    "import pandas as pd\n",
    "from tqdm import tqdm\n",
    "from typing import List"
   ]
  },
  {
   "cell_type": "markdown",
   "metadata": {},
   "source": [
    "#### Parameters"
   ]
  },
  {
   "cell_type": "code",
   "execution_count": 13,
   "metadata": {},
   "outputs": [],
   "source": [
    "n_frames_per_seq : int = 8\n",
    "h2o_root = '../data/h2o/'\n",
    "h2odataset_root = '../data/h2o/h2odataset/'\n",
    "h2o_actions = h2odataset_root + 'action_labels/'"
   ]
  },
  {
   "cell_type": "markdown",
   "metadata": {},
   "source": [
    "## Choose Mode\n",
    "\n",
    "> (Only) Run the cell corresponding to the requested mode (train, val).\n",
    "\n",
    "The consequent extractions automatically extract data of the configured mode."
   ]
  },
  {
   "cell_type": "markdown",
   "metadata": {},
   "source": [
    "Training Set"
   ]
  },
  {
   "cell_type": "code",
   "execution_count": 15,
   "metadata": {},
   "outputs": [
    {
     "name": "stdout",
     "output_type": "stream",
     "text": [
      "Number of action sequences: 569\n"
     ]
    }
   ],
   "source": [
    "mode = 'train'\n",
    "sample_root = h2o_root + f'seq_{n_frames_per_seq}_{mode}/'\n",
    "\n",
    "df = pd.read_csv(h2o_actions + 'action_train.txt', delimiter=' ')\n",
    "ids : List[int] = df['id'].to_list()\n",
    "paths : List[str] = df['path'].to_list()\n",
    "labels : List[int] = df['action_label'].to_list()\n",
    "start_acts : List[int] = df['start_act'].to_list()\n",
    "end_acts : List[int] = df['end_act'].to_list()\n",
    "\n",
    "print(\"Number of action sequences:\", len(ids))"
   ]
  },
  {
   "cell_type": "markdown",
   "metadata": {},
   "source": [
    "Validation Set"
   ]
  },
  {
   "cell_type": "code",
   "execution_count": 17,
   "metadata": {},
   "outputs": [
    {
     "name": "stdout",
     "output_type": "stream",
     "text": [
      "Number of action sequences: 122\n"
     ]
    }
   ],
   "source": [
    "mode = 'val'\n",
    "sample_root = h2o_root + f'seq_{n_frames_per_seq}_{mode}/'\n",
    "\n",
    "df = pd.read_csv(h2o_actions + 'action_val.txt', delimiter=' ')\n",
    "ids : List[int] = df['id'].to_list()\n",
    "paths : List[str] = df['path'].to_list()\n",
    "labels : List[int] = df['action_label'].to_list()\n",
    "start_acts : List[int] = df['start_act'].to_list()\n",
    "end_acts : List[int] = df['end_act'].to_list()\n",
    "\n",
    "print(\"Number of action sequences:\", len(ids))"
   ]
  },
  {
   "cell_type": "markdown",
   "metadata": {},
   "source": [
    "## Compute Sample IDs\n",
    "\n",
    "Sample the frame ids from the action sequences."
   ]
  },
  {
   "cell_type": "code",
   "execution_count": 19,
   "metadata": {},
   "outputs": [
    {
     "name": "stderr",
     "output_type": "stream",
     "text": [
      "100%|██████████| 122/122 [00:00<00:00, 21045.70it/s]"
     ]
    },
    {
     "name": "stdout",
     "output_type": "stream",
     "text": [
      "Sampling IDs shape: (122, 8)\n",
      "Last sampled sequence ids: [476 485 495 504 514 523 533 543]\n"
     ]
    },
    {
     "name": "stderr",
     "output_type": "stream",
     "text": [
      "\n"
     ]
    }
   ],
   "source": [
    "os.makedirs(sample_root, exist_ok=True) # create the destination directory\n",
    "\n",
    "sample_ids : List[NDArray] = []\n",
    "# sample the frames for each action\n",
    "for i in tqdm(range(len(ids))):\n",
    "    start_act = start_acts[i]\n",
    "    end_act = end_acts[i]\n",
    "    n_frames_total = end_act-start_act+1 # total number of frames in the action sequence\n",
    "    assert n_frames_total >= n_frames_per_seq, \\\n",
    "        f\"Requested {n_frames_per_seq} samples, but action (id {ids[i]}) has only {n_frames_total} frames\"\n",
    "\n",
    "    seq_ids = np.linspace(start_acts[i], end_acts[i], n_frames_per_seq, dtype=int)\n",
    "    sample_ids.append(seq_ids)\n",
    "\n",
    "sample_ids = np.array(sample_ids)\n",
    "np.save(sample_root + 'sample_ids.npy', sample_ids)\n",
    "print(\"Sampling IDs shape:\", sample_ids.shape) # sanity check the shape of the sampled ids\n",
    "print(\"Last sampled sequence ids:\", seq_ids) # sanity check the sampling from the last action"
   ]
  },
  {
   "cell_type": "markdown",
   "metadata": {},
   "source": [
    "## Action Labels"
   ]
  },
  {
   "cell_type": "code",
   "execution_count": 20,
   "metadata": {},
   "outputs": [],
   "source": [
    "action_labels_dest = h2o_root + 'action_labels_' + mode + '.npy'\n",
    "action_labels = np.array(labels)\n",
    "np.save(action_labels_dest, action_labels)"
   ]
  },
  {
   "cell_type": "markdown",
   "metadata": {},
   "source": [
    "## Frame Sequences"
   ]
  },
  {
   "cell_type": "markdown",
   "metadata": {},
   "source": [
    "Helper Functions"
   ]
  },
  {
   "cell_type": "code",
   "execution_count": 21,
   "metadata": {},
   "outputs": [],
   "source": [
    "def check_img_sample(img_path: str):\n",
    "    img = cv2.imread(img_path, cv2.IMREAD_COLOR)\n",
    "    print(\"Img shape:\", img.shape)\n",
    "    print(\"Img dtype:\", img.dtype)\n",
    "\n",
    "    cv2.waitKey(0)\n",
    "    cv2.destroyAllWindows()"
   ]
  },
  {
   "cell_type": "code",
   "execution_count": 22,
   "metadata": {},
   "outputs": [],
   "source": [
    "def sample_frame_sequence(act_path: str, sample_ids: NDArray) -> NDArray:\n",
    "    \"\"\"\n",
    "    Sample frames from an action sequence in the dataset.\n",
    "\n",
    "    Args:\n",
    "    -----\n",
    "        act_path (str): path to the action sequence images\n",
    "        sample_ids (NDArray): array of frame ids to sample\n",
    "\n",
    "    Returns:\n",
    "    --------\n",
    "        NDArray: array of the sampled frame sequence\n",
    "    \"\"\"\n",
    "\n",
    "    frames : list[NDArray] = []\n",
    "    for id in sample_ids:\n",
    "        img_path = act_path + f'{id:06d}.png'\n",
    "        img : NDArray = cv2.imread(img_path, cv2.IMREAD_COLOR)\n",
    "        img = cv2.cvtColor(img, cv2.COLOR_BGR2RGB)\n",
    "\n",
    "        frames.append(img)\n",
    "    \n",
    "    return np.array(frames)"
   ]
  },
  {
   "cell_type": "markdown",
   "metadata": {},
   "source": [
    "#### Prepare Extraction\n",
    "\n",
    "Check whether the images are extracted correctly."
   ]
  },
  {
   "cell_type": "code",
   "execution_count": 23,
   "metadata": {},
   "outputs": [
    {
     "name": "stdout",
     "output_type": "stream",
     "text": [
      "Sample IDs shape: (122, 8)\n",
      "Img shape: (720, 1280, 3)\n",
      "Img dtype: uint8\n"
     ]
    }
   ],
   "source": [
    "# create the destination directories\n",
    "sample_frames_dest = sample_root + f'frames_{mode}/'\n",
    "os.makedirs(sample_frames_dest, exist_ok=True) # create the destination directory\n",
    "\n",
    "# load the sample ids from file\n",
    "sample_ids = np.load(sample_root + 'sample_ids.npy')\n",
    "print(\"Sample IDs shape:\", sample_ids.shape)\n",
    "\n",
    "# check whether images are loaded correctly\n",
    "check_img_sample(h2odataset_root + paths[0] + '/cam4/rgb/000000.png') # TODO check path"
   ]
  },
  {
   "cell_type": "markdown",
   "metadata": {},
   "source": [
    "#### Extraction"
   ]
  },
  {
   "cell_type": "code",
   "execution_count": 24,
   "metadata": {},
   "outputs": [
    {
     "name": "stderr",
     "output_type": "stream",
     "text": [
      "100%|██████████| 122/122 [01:12<00:00,  1.68it/s]"
     ]
    },
    {
     "name": "stdout",
     "output_type": "stream",
     "text": [
      "Images sampled and saved successfully!\n"
     ]
    },
    {
     "name": "stderr",
     "output_type": "stream",
     "text": [
      "\n"
     ]
    }
   ],
   "source": [
    "for i in tqdm(range(len(ids))):\n",
    "    # TODO check path to image data\n",
    "    frames = sample_frame_sequence(h2odataset_root + paths[i] + '/cam4/rgb/', sample_ids[i])\n",
    "    np.save(sample_frames_dest + f'{ids[i]:03d}.npy', frames)\n",
    "print(\"Images sampled and saved successfully!\")"
   ]
  },
  {
   "cell_type": "markdown",
   "metadata": {},
   "source": [
    "## Pose Sequences"
   ]
  },
  {
   "cell_type": "markdown",
   "metadata": {},
   "source": [
    "Helper Function"
   ]
  },
  {
   "cell_type": "code",
   "execution_count": 25,
   "metadata": {},
   "outputs": [],
   "source": [
    "def sample_pose_sequence(pose_path: str, sample_ids: NDArray) -> NDArray:\n",
    "    \"\"\"\n",
    "    Sample poses from an action sequence in the dataset.\n",
    "\n",
    "    Args:\n",
    "    -----\n",
    "        pose_path (str): path to the action sequence images\n",
    "        sample_ids (NDArray): array of frame ids to sample\n",
    "\n",
    "    Returns:\n",
    "    --------\n",
    "        NDArray: array of the sampled frame sequence\n",
    "    \"\"\"\n",
    "\n",
    "    poses : list[NDArray] = []\n",
    "    for id in sample_ids:\n",
    "        pose_file = pose_path + f'{id:06d}.txt'\n",
    "        pose = np.loadtxt(pose_file, dtype=np.float32)\n",
    "\n",
    "        poses.append(pose)\n",
    "    \n",
    "    return np.array(poses)"
   ]
  },
  {
   "cell_type": "markdown",
   "metadata": {},
   "source": [
    "#### Prepare Extraction\n",
    "\n",
    "Check whether poses are extracted correctly."
   ]
  },
  {
   "cell_type": "code",
   "execution_count": 27,
   "metadata": {},
   "outputs": [
    {
     "name": "stdout",
     "output_type": "stream",
     "text": [
      "Sample IDs shape: (122, 8)\n",
      "Hand pose shape: (8, 128)\n",
      "0.5211841\n",
      "Object pose shape: (8, 64)\n",
      "0.4155148\n"
     ]
    }
   ],
   "source": [
    "# create the destination directories\n",
    "sample_hand_poses_dest = sample_root + f'poses_hand_{mode}/'\n",
    "sample_obj_poses_dest = sample_root + f'poses_obj_{mode}/'\n",
    "os.makedirs(sample_hand_poses_dest, exist_ok=True) # create the destination directory\n",
    "os.makedirs(sample_obj_poses_dest, exist_ok=True) # create the destination directory\n",
    "\n",
    "# load the sample ids from file\n",
    "sample_ids = np.load(sample_root + 'sample_ids.npy')\n",
    "print(\"Sample IDs shape:\", sample_ids.shape)\n",
    "\n",
    "# check whether poses are loaded correctly\n",
    "poses = sample_pose_sequence(h2odataset_root + paths[0] + '/cam4/hand_pose/', sample_ids[0])\n",
    "print(\"Hand pose shape:\", poses.shape)\n",
    "print(poses[0, -1]) # sanity check\n",
    "poses = sample_pose_sequence(h2odataset_root + paths[0] + '/cam4/obj_pose/', sample_ids[0])\n",
    "print(\"Object pose shape:\", poses.shape)\n",
    "print(poses[0, -1]) # sanity check"
   ]
  },
  {
   "cell_type": "markdown",
   "metadata": {},
   "source": [
    "#### Extraction"
   ]
  },
  {
   "cell_type": "code",
   "execution_count": 29,
   "metadata": {},
   "outputs": [
    {
     "name": "stderr",
     "output_type": "stream",
     "text": [
      "100%|██████████| 122/122 [00:33<00:00,  3.60it/s]"
     ]
    },
    {
     "name": "stdout",
     "output_type": "stream",
     "text": [
      "Poses sampled and saved successfully!\n"
     ]
    },
    {
     "name": "stderr",
     "output_type": "stream",
     "text": [
      "\n"
     ]
    }
   ],
   "source": [
    "for i in tqdm(range(len(ids))):\n",
    "    poses = sample_pose_sequence(h2odataset_root + paths[i] + '/cam4/hand_pose/', sample_ids[i])\n",
    "    np.save(sample_hand_poses_dest + f'{ids[i]:03d}.npy', poses)\n",
    "    poses = sample_pose_sequence(h2odataset_root + paths[i] + '/cam4/obj_pose/', sample_ids[i])\n",
    "    np.save(sample_obj_poses_dest + f'{ids[i]:03d}.npy', poses)\n",
    "print(\"Poses sampled and saved successfully!\")"
   ]
  }
 ],
 "metadata": {
  "kernelspec": {
   "display_name": "3dv",
   "language": "python",
   "name": "python3"
  },
  "language_info": {
   "codemirror_mode": {
    "name": "ipython",
    "version": 3
   },
   "file_extension": ".py",
   "mimetype": "text/x-python",
   "name": "python",
   "nbconvert_exporter": "python",
   "pygments_lexer": "ipython3",
   "version": "3.8.18"
  }
 },
 "nbformat": 4,
 "nbformat_minor": 2
}
