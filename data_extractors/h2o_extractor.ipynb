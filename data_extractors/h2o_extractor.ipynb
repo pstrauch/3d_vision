{
 "cells": [
  {
   "cell_type": "code",
   "execution_count": null,
   "metadata": {},
   "outputs": [],
   "source": []
  },
  {
   "cell_type": "markdown",
   "metadata": {},
   "source": [
    "# Frame Sequence Extractor\n",
    "\n",
    "Extracts frame sequences from the dataset.\n",
    "\n",
    "### Preparation\n",
    "\n",
    "- Place the h2odataset in the following directory relative to the workspace:\n",
    "`data/h2o/h2odataset`\n",
    "\n",
    "### Run\n",
    "\n",
    "- Import the required packages and set the required parameters\n",
    "- Select the required mode by running the corresponding cell (only)\n",
    "- If you use a pre-computed sample_ids array, make sure to have placed it in `data/h2o/seq_n_mode/sample_ids.npy`\n",
    "- Follow along the cells in a chapter to extract the corresponding data\n",
    "\n",
    "### Output\n",
    "\n",
    "- The extracted data is saved in numpy's .npy files in `data/h2o` in corresponding folders. \n",
    "- For example, the 8 frame sequences for training are stored int `data/h2o/frame_seq_8_train/`.\n",
    "- Images are stored in the format HxWxC in RGB format\n",
    "- The name of the files corresponds to the id provided in the action files of the dataset (e.g. 001.npy).\n",
    "\n",
    "---"
   ]
  },
  {
   "cell_type": "markdown",
   "metadata": {},
   "source": [
    "#### Imports"
   ]
  },
  {
   "cell_type": "code",
   "execution_count": 2,
   "metadata": {
    "metadata": {}
   },
   "outputs": [],
   "source": [
    "import os\n",
    "import cv2\n",
    "import numpy as np\n",
    "from numpy.typing import NDArray\n",
    "import pandas as pd\n",
    "from tqdm import tqdm\n",
    "from typing import List"
   ]
  },
  {
   "cell_type": "markdown",
   "metadata": {},
   "source": [
    "#### Parameters"
   ]
  },
  {
   "cell_type": "code",
   "execution_count": 4,
   "metadata": {
    "metadata": {}
   },
   "outputs": [],
   "source": [
    "n_frames_per_seq : int = 8\n",
    "h2o_root = '../data/h2o/'\n",
    "h2odataset_root = '../data/h2o/h2odataset/'\n",
    "h2o_actions = h2odataset_root + 'action_labels/'"
   ]
  },
  {
   "cell_type": "markdown",
   "metadata": {},
   "source": [
    "## Choose Mode\n",
    "\n",
    "> (Only) Run the cell corresponding to the requested mode (train, val).\n",
    "\n",
    "The consequent extractions automatically extract data of the configured mode."
   ]
  },
  {
   "cell_type": "markdown",
   "metadata": {},
   "source": [
    "Training Set"
   ]
  },
  {
   "cell_type": "code",
   "execution_count": 5,
   "metadata": {
    "metadata": {}
   },
   "outputs": [
    {
     "name": "stdout",
     "output_type": "stream",
     "text": [
      "Number of action sequences: 569\n"
     ]
    }
   ],
   "source": [
    "mode = 'train'\n",
    "sample_root = h2o_root + f'seq_{n_frames_per_seq}_{mode}/'\n",
    "\n",
    "df = pd.read_csv(h2o_actions + 'action_train.txt', delimiter=' ')\n",
    "ids : List[int] = df['id'].to_list()\n",
    "paths : List[str] = df['path'].to_list()\n",
    "labels : List[int] = df['action_label'].to_list()\n",
    "start_acts : List[int] = df['start_act'].to_list()\n",
    "end_acts : List[int] = df['end_act'].to_list()\n",
    "\n",
    "print(\"Number of action sequences:\", len(ids))"
   ]
  },
  {
   "cell_type": "markdown",
   "metadata": {},
   "source": [
    "Validation Set"
   ]
  },
  {
   "cell_type": "code",
   "execution_count": 17,
   "metadata": {},
   "outputs": [
    {
     "name": "stdout",
     "output_type": "stream",
     "text": [
      "Number of action sequences: 122\n"
     ]
    }
   ],
   "source": [
    "mode = 'val'\n",
    "sample_root = h2o_root + f'seq_{n_frames_per_seq}_{mode}/'\n",
    "\n",
    "df = pd.read_csv(h2o_actions + 'action_val.txt', delimiter=' ')\n",
    "ids : List[int] = df['id'].to_list()\n",
    "paths : List[str] = df['path'].to_list()\n",
    "labels : List[int] = df['action_label'].to_list()\n",
    "start_acts : List[int] = df['start_act'].to_list()\n",
    "end_acts : List[int] = df['end_act'].to_list()\n",
    "\n",
    "print(\"Number of action sequences:\", len(ids))"
   ]
  },
  {
   "cell_type": "markdown",
   "metadata": {},
   "source": [
    "## Compute Sample IDs\n",
    "\n",
    "Sample the frame ids from the action sequences."
   ]
  },
  {
   "cell_type": "code",
   "execution_count": 19,
   "metadata": {},
   "outputs": [
    {
     "name": "stderr",
     "output_type": "stream",
     "text": [
      "100%|██████████| 122/122 [00:00<00:00, 21045.70it/s]"
     ]
    },
    {
     "name": "stdout",
     "output_type": "stream",
     "text": [
      "Sampling IDs shape: (122, 8)\n",
      "Last sampled sequence ids: [476 485 495 504 514 523 533 543]\n"
     ]
    },
    {
     "name": "stderr",
     "output_type": "stream",
     "text": [
      "\n"
     ]
    }
   ],
   "source": [
    "os.makedirs(sample_root, exist_ok=True) # create the destination directory\n",
    "\n",
    "sample_ids : List[NDArray] = []\n",
    "# sample the frames for each action\n",
    "for i in tqdm(range(len(ids))):\n",
    "    start_act = start_acts[i]\n",
    "    end_act = end_acts[i]\n",
    "    n_frames_total = end_act-start_act+1 # total number of frames in the action sequence\n",
    "    assert n_frames_total >= n_frames_per_seq, \\\n",
    "        f\"Requested {n_frames_per_seq} samples, but action (id {ids[i]}) has only {n_frames_total} frames\"\n",
    "\n",
    "    seq_ids = np.linspace(start_acts[i], end_acts[i], n_frames_per_seq, dtype=int)\n",
    "    sample_ids.append(seq_ids)\n",
    "\n",
    "sample_ids = np.array(sample_ids)\n",
    "np.save(sample_root + 'sample_ids.npy', sample_ids)\n",
    "print(\"Sampling IDs shape:\", sample_ids.shape) # sanity check the shape of the sampled ids\n",
    "print(\"Last sampled sequence ids:\", seq_ids) # sanity check the sampling from the last action"
   ]
  },
  {
   "cell_type": "markdown",
   "metadata": {},
   "source": [
    "## Action Labels"
   ]
  },
  {
   "cell_type": "code",
   "execution_count": 20,
   "metadata": {},
   "outputs": [],
   "source": [
    "action_labels_dest = h2o_root + 'action_labels_' + mode + '.npy'\n",
    "action_labels = np.array(labels)\n",
    "np.save(action_labels_dest, action_labels)"
   ]
  },
  {
   "cell_type": "markdown",
   "metadata": {},
   "source": [
    "## Frame Sequences"
   ]
  },
  {
   "cell_type": "markdown",
   "metadata": {},
   "source": [
    "Helper Functions"
   ]
  },
  {
   "cell_type": "code",
   "execution_count": 21,
   "metadata": {},
   "outputs": [],
   "source": [
    "def check_img_sample(img_path: str):\n",
    "    img = cv2.imread(img_path, cv2.IMREAD_COLOR)\n",
    "    print(\"Img shape:\", img.shape)\n",
    "    print(\"Img dtype:\", img.dtype)\n",
    "\n",
    "    cv2.waitKey(0)\n",
    "    cv2.destroyAllWindows()"
   ]
  },
  {
   "cell_type": "code",
   "execution_count": 22,
   "metadata": {},
   "outputs": [],
   "source": [
    "def sample_frame_sequence(act_path: str, sample_ids: NDArray) -> NDArray:\n",
    "    \"\"\"\n",
    "    Sample frames from an action sequence in the dataset.\n",
    "\n",
    "    Args:\n",
    "    -----\n",
    "        act_path (str): path to the action sequence images\n",
    "        sample_ids (NDArray): array of frame ids to sample\n",
    "\n",
    "    Returns:\n",
    "    --------\n",
    "        NDArray: array of the sampled frame sequence\n",
    "    \"\"\"\n",
    "\n",
    "    frames : list[NDArray] = []\n",
    "    for id in sample_ids:\n",
    "        img_path = act_path + f'{id:06d}.png'\n",
    "        img : NDArray = cv2.imread(img_path, cv2.IMREAD_COLOR)\n",
    "        img = cv2.cvtColor(img, cv2.COLOR_BGR2RGB)\n",
    "\n",
    "        frames.append(img)\n",
    "    \n",
    "    return np.array(frames)"
   ]
  },
  {
   "cell_type": "markdown",
   "metadata": {},
   "source": [
    "#### Prepare Extraction\n",
    "\n",
    "Check whether the images are extracted correctly."
   ]
  },
  {
   "cell_type": "code",
   "execution_count": 6,
   "metadata": {},
   "outputs": [
    {
     "name": "stdout",
     "output_type": "stream",
     "text": [
      "Sample IDs shape: (569, 8)\n"
     ]
    },
    {
     "ename": "NameError",
     "evalue": "name 'check_img_sample' is not defined",
     "output_type": "error",
     "traceback": [
      "\u001b[0;31m---------------------------------------------------------------------------\u001b[0m",
      "\u001b[0;31mNameError\u001b[0m                                 Traceback (most recent call last)",
      "Cell \u001b[0;32mIn[6], line 10\u001b[0m\n\u001b[1;32m      7\u001b[0m \u001b[38;5;28mprint\u001b[39m(\u001b[38;5;124m\"\u001b[39m\u001b[38;5;124mSample IDs shape:\u001b[39m\u001b[38;5;124m\"\u001b[39m, sample_ids\u001b[38;5;241m.\u001b[39mshape)\n\u001b[1;32m      9\u001b[0m \u001b[38;5;66;03m# check whether images are loaded correctly\u001b[39;00m\n\u001b[0;32m---> 10\u001b[0m \u001b[43mcheck_img_sample\u001b[49m(h2odataset_root \u001b[38;5;241m+\u001b[39m paths[\u001b[38;5;241m0\u001b[39m] \u001b[38;5;241m+\u001b[39m \u001b[38;5;124m'\u001b[39m\u001b[38;5;124m/cam4/rgb/000000.png\u001b[39m\u001b[38;5;124m'\u001b[39m) \u001b[38;5;66;03m# TODO check path\u001b[39;00m\n",
      "\u001b[0;31mNameError\u001b[0m: name 'check_img_sample' is not defined"
     ]
    }
   ],
   "source": [
    "# create the destination directories\n",
    "sample_frames_dest = sample_root + f'frames_{mode}/'\n",
    "os.makedirs(sample_frames_dest, exist_ok=True) # create the destination directory\n",
    "\n",
    "# load the sample ids from file\n",
    "sample_ids = np.load(sample_root + 'sample_ids.npy')\n",
    "print(\"Sample IDs shape:\", sample_ids.shape)\n",
    "\n",
    "# check whether images are loaded correctly\n",
    "check_img_sample(h2odataset_root + paths[0] + '/cam4/rgb/000000.png') # TODO check path"
   ]
  },
  {
   "cell_type": "markdown",
   "metadata": {},
   "source": [
    "#### Extraction"
   ]
  },
  {
   "cell_type": "code",
   "execution_count": 24,
   "metadata": {},
   "outputs": [
    {
     "name": "stderr",
     "output_type": "stream",
     "text": [
      "100%|██████████| 122/122 [01:12<00:00,  1.68it/s]"
     ]
    },
    {
     "name": "stdout",
     "output_type": "stream",
     "text": [
      "Images sampled and saved successfully!\n"
     ]
    },
    {
     "name": "stderr",
     "output_type": "stream",
     "text": [
      "\n"
     ]
    }
   ],
   "source": [
    "for i in tqdm(range(len(ids))):\n",
    "    # TODO check path to image data\n",
    "    frames = sample_frame_sequence(h2odataset_root + paths[i] + '/cam4/rgb/', sample_ids[i])\n",
    "    np.save(sample_frames_dest + f'{ids[i]:03d}.npy', frames)\n",
    "print(\"Images sampled and saved successfully!\")"
   ]
  },
  {
   "cell_type": "markdown",
   "metadata": {},
   "source": [
    "## Pose Sequences"
   ]
  },
  {
   "cell_type": "markdown",
   "metadata": {},
   "source": [
    "Helper Function"
   ]
  },
  {
   "cell_type": "code",
   "execution_count": 7,
   "metadata": {
    "metadata": {}
   },
   "outputs": [],
   "source": [
    "def sample_pose_sequence(pose_path: str, sample_ids: NDArray) -> NDArray:\n",
    "    \"\"\"\n",
    "    Sample poses from an action sequence in the dataset.\n",
    "\n",
    "    Args:\n",
    "    -----\n",
    "        pose_path (str): path to the action sequence images\n",
    "        sample_ids (NDArray): array of frame ids to sample\n",
    "\n",
    "    Returns:\n",
    "    --------\n",
    "        NDArray: array of the sampled frame sequence\n",
    "    \"\"\"\n",
    "\n",
    "    poses : list[NDArray] = []\n",
    "    for id in sample_ids:\n",
    "        pose_file = pose_path + f'{id:06d}.txt'\n",
    "        pose = np.loadtxt(pose_file, dtype=np.double)\n",
    "\n",
    "        poses.append(pose)\n",
    "    \n",
    "    return np.array(poses)"
   ]
  },
  {
   "cell_type": "code",
   "execution_count": 8,
   "metadata": {},
   "outputs": [],
   "source": [
    "def transform_to_rt(rt_vecs: NDArray):\n",
    "    \"\"\"\n",
    "    Transform the raw object_rt vectors to 4x4 transformation matrices.\n",
    "\n",
    "    Args:\n",
    "    -----\n",
    "        rt_vecs (NDArray): Nx17 array of raw object_rt vectors\n",
    "\n",
    "    Returns:\n",
    "    --------\n",
    "        NDArray: Nx4x4 array of transformation matrices\n",
    "    \"\"\"\n",
    "\n",
    "    # remove the first number from each vector\n",
    "    rt_vecs = rt_vecs[:, 1:]\n",
    "    # reshape the vector\n",
    "    rt_vecs = rt_vecs.reshape(-1, 4, 4)\n",
    "    \n",
    "    return rt_vecs\n",
    "    "
   ]
  },
  {
   "cell_type": "markdown",
   "metadata": {},
   "source": [
    "#### Prepare Extraction\n",
    "\n",
    "Check whether poses are extracted correctly."
   ]
  },
  {
   "cell_type": "code",
   "execution_count": 9,
   "metadata": {
    "metadata": {}
   },
   "outputs": [
    {
     "name": "stdout",
     "output_type": "stream",
     "text": [
      "Sample IDs shape: (569, 8)\n",
      "Hand pose shape: (8, 128)\n",
      "0.6218021202\n",
      "Object pose shape: (8, 64)\n",
      "0.5920540018426089\n",
      "Object pose RT shape: (8, 17)\n",
      "1.0\n"
     ]
    }
   ],
   "source": [
    "# create the destination directories\n",
    "sample_hand_poses_dest = sample_root + f'poses_hand_{mode}/'\n",
    "sample_obj_poses_dest = sample_root + f'poses_obj_{mode}/'\n",
    "sample_obj_rt_dest = sample_root + f'obj_rt_{mode}/'\n",
    "os.makedirs(sample_hand_poses_dest, exist_ok=True) # create the destination directory\n",
    "os.makedirs(sample_obj_poses_dest, exist_ok=True) # create the destination directory\n",
    "os.makedirs(sample_obj_rt_dest, exist_ok=True) # create the destination directory\n",
    "\n",
    "# load the sample ids from file\n",
    "sample_ids = np.load(sample_root + 'sample_ids.npy')\n",
    "print(\"Sample IDs shape:\", sample_ids.shape)\n",
    "\n",
    "# check whether poses are loaded correctly\n",
    "poses = sample_pose_sequence(h2odataset_root + 'data_pose/' + paths[0] + '/cam4/hand_pose/', sample_ids[0])\n",
    "print(\"Hand pose shape:\", poses.shape)\n",
    "print(poses[0, -1]) # sanity check\n",
    "poses = sample_pose_sequence(h2odataset_root + 'data_pose/' + paths[0] + '/cam4/obj_pose/', sample_ids[0])\n",
    "print(\"Object pose shape:\", poses.shape)\n",
    "print(poses[0, -1]) # sanity check\n",
    "poses = sample_pose_sequence(h2odataset_root + 'data_pose/' + paths[0] + '/cam4/obj_pose_rt/', sample_ids[0])\n",
    "print(\"Object pose RT shape:\", poses.shape)\n",
    "print(poses[0, -1]) # sanity check\n"
   ]
  },
  {
   "cell_type": "markdown",
   "metadata": {},
   "source": [
    "#### Extraction"
   ]
  },
  {
   "cell_type": "markdown",
   "metadata": {},
   "source": [
    "Hand and Object Poses"
   ]
  },
  {
   "cell_type": "code",
   "execution_count": 9,
   "metadata": {
    "metadata": {}
   },
   "outputs": [
    {
     "name": "stderr",
     "output_type": "stream",
     "text": [
      "100%|██████████| 569/569 [00:03<00:00, 159.52it/s]"
     ]
    },
    {
     "name": "stdout",
     "output_type": "stream",
     "text": [
      "Poses sampled and saved successfully!\n"
     ]
    },
    {
     "name": "stderr",
     "output_type": "stream",
     "text": [
      "\n"
     ]
    }
   ],
   "source": [
    "for i in tqdm(range(len(ids))):\n",
    "    poses = sample_pose_sequence(h2odataset_root + 'data_pose/' + paths[i] + '/cam4/hand_pose/', sample_ids[i])\n",
    "    np.save(sample_hand_poses_dest + f'{ids[i]:03d}.npy', poses)\n",
    "    poses = sample_pose_sequence(h2odataset_root + 'data_pose/' + paths[i] + '/cam4/obj_pose/', sample_ids[i])\n",
    "    np.save(sample_obj_poses_dest + f'{ids[i]:03d}.npy', poses)\n",
    "print(\"Poses sampled and saved successfully!\")"
   ]
  },
  {
   "cell_type": "markdown",
   "metadata": {},
   "source": [
    "Object Pose RT Matrices"
   ]
  },
  {
   "cell_type": "code",
   "execution_count": 10,
   "metadata": {},
   "outputs": [
    {
     "name": "stderr",
     "output_type": "stream",
     "text": [
      "100%|██████████| 569/569 [00:03<00:00, 170.38it/s]"
     ]
    },
    {
     "name": "stdout",
     "output_type": "stream",
     "text": [
      "Object RT sampled and saved successfully!\n",
      "[[[-0.35512614  0.93421651 -0.03353196 -0.07540931]\n",
      "  [-0.82986139 -0.29853773  0.47138616 -0.02668573]\n",
      "  [ 0.43036657  0.19522853  0.88128898  0.46797309]\n",
      "  [ 0.          0.          0.          1.        ]]\n",
      "\n",
      " [[-0.35210428  0.93345575 -0.06842806 -0.06834233]\n",
      "  [-0.85278704 -0.28982704  0.43445847 -0.02316135]\n",
      "  [ 0.38571584  0.21132935  0.89808853  0.46651409]\n",
      "  [ 0.          0.          0.          1.        ]]\n",
      "\n",
      " [[-0.30426001  0.94697136 -0.10329834 -0.05765282]\n",
      "  [-0.88604224 -0.24151667  0.39572523 -0.01969273]\n",
      "  [ 0.34979256  0.21193016  0.91254074  0.46393074]\n",
      "  [ 0.          0.          0.          1.        ]]\n",
      "\n",
      " [[-0.23206954  0.96220823 -0.14247282 -0.04908071]\n",
      "  [-0.93334112 -0.17903407  0.31116036 -0.00725253]\n",
      "  [ 0.27389392  0.20518668  0.93961714  0.4582273 ]\n",
      "  [ 0.          0.          0.          1.        ]]\n",
      "\n",
      " [[-0.11534512  0.98658798 -0.11549512 -0.0380447 ]\n",
      "  [-0.95464874 -0.0779731   0.28734222  0.0020412 ]\n",
      "  [ 0.27448324  0.14340086  0.9508391   0.4503852 ]\n",
      "  [ 0.          0.          0.          1.        ]]\n",
      "\n",
      " [[-0.06487638  0.99127468 -0.11473898 -0.0359696 ]\n",
      "  [-0.95756304 -0.0294834   0.28671121  0.0061676 ]\n",
      "  [ 0.28082704  0.12847064  0.95112109  0.45031245]\n",
      "  [ 0.          0.          0.          1.        ]]\n",
      "\n",
      " [[-0.04541051  0.99165727 -0.12063647 -0.0357038 ]\n",
      "  [-0.9489582  -0.00509116  0.31536014  0.00755245]\n",
      "  [ 0.3121154   0.12879971  0.9412728   0.45114184]\n",
      "  [ 0.          0.          0.          1.        ]]\n",
      "\n",
      " [[-0.13122235  0.98825001 -0.07837115 -0.04194024]\n",
      "  [-0.91505943 -0.09033205  0.39307247  0.0076786 ]\n",
      "  [ 0.38137486  0.12329426  0.91616134  0.44522493]\n",
      "  [ 0.          0.          0.          1.        ]]]\n"
     ]
    },
    {
     "name": "stderr",
     "output_type": "stream",
     "text": [
      "\n"
     ]
    }
   ],
   "source": [
    "for i in tqdm(range(len(ids))):\n",
    "    poses = sample_pose_sequence(h2odataset_root + 'data_pose/' + paths[i] + '/cam4/obj_pose_rt/', sample_ids[i])\n",
    "    poses = transform_to_rt(poses)\n",
    "    np.save(sample_obj_rt_dest + f'{ids[i]:03d}.npy', poses)\n",
    "print(\"Object RT sampled and saved successfully!\")"
   ]
  }
 ],
 "metadata": {
  "kernelspec": {
   "display_name": "3dv",
   "language": "python",
   "name": "python3"
  },
  "language_info": {
   "codemirror_mode": {
    "name": "ipython",
    "version": 3
   },
   "file_extension": ".py",
   "mimetype": "text/x-python",
   "name": "python",
   "nbconvert_exporter": "python",
   "pygments_lexer": "ipython3",
   "version": "3.11.8"
  }
 },
 "nbformat": 4,
 "nbformat_minor": 2
}
