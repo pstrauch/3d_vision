{
 "cells": [
  {
   "cell_type": "markdown",
   "metadata": {},
   "source": [
    "# Frame Sequence Extractor\n",
    "\n",
    "Extracts frame sequences from the dataset.\n",
    "\n",
    "### Preparation\n",
    "\n",
    "Place the h2odataset in the following directory relative to the workspace:\n",
    "`data/h2o/h2odataset`\n",
    "\n",
    "### Run\n",
    "\n",
    "- Import the required packages and set the required parameters\n",
    "- Select the required mode by running the corresponding cell (only)\n",
    "- Follow along the cells in a chapter to extract the corresponding data\n",
    "\n",
    "### Output\n",
    "\n",
    "- The extracted data is saved in numpy's .npy files in `data/h2o` in corresponding folders. \n",
    "- For example, the 8 frame sequences for training are stored int `data/h2o/frame_seq_8_train/`.\n",
    "- Images are stored in the format HxWxC in BGR format (TODO verify :D). \n",
    "- The name of the files corresponds to the id provided in the action files of the dataset (e.g. 1.npy).\n",
    "\n",
    "---"
   ]
  },
  {
   "cell_type": "markdown",
   "metadata": {},
   "source": [
    "#### Imports"
   ]
  },
  {
   "cell_type": "code",
   "execution_count": 2,
   "metadata": {},
   "outputs": [],
   "source": [
    "import os\n",
    "import cv2\n",
    "import numpy as np\n",
    "from numpy.typing import NDArray\n",
    "import pandas as pd\n",
    "from tqdm import tqdm"
   ]
  },
  {
   "cell_type": "markdown",
   "metadata": {},
   "source": [
    "#### Parameters"
   ]
  },
  {
   "cell_type": "code",
   "execution_count": 3,
   "metadata": {},
   "outputs": [],
   "source": [
    "n_frames_per_seq : int = 8\n",
    "h2o_root = '../data/h2o/'\n",
    "h2odataset_root = '../data/h2o/h2odataset/'\n",
    "h2o_actions = h2odataset_root + 'action_labels/'"
   ]
  },
  {
   "cell_type": "markdown",
   "metadata": {},
   "source": [
    "## Choose Mode\n",
    "\n",
    "> (Only) Run the cell corresponding to the requested mode (train, val).\n",
    "\n",
    "The consequent extractions automatically extract data of the configured mode."
   ]
  },
  {
   "cell_type": "markdown",
   "metadata": {},
   "source": [
    "Training Set"
   ]
  },
  {
   "cell_type": "code",
   "execution_count": 4,
   "metadata": {},
   "outputs": [],
   "source": [
    "mode = 'train'\n",
    "\n",
    "df = pd.read_csv(h2o_actions + 'action_train.txt', delimiter=' ')\n",
    "ids : list[int] = df['id'].to_list()\n",
    "paths : list[str] = df['path'].to_list()\n",
    "labels : list[int] = df['action_label'].to_list()\n",
    "start_act : list[int] = df['start_act'].to_list()\n",
    "end_act : list[int] = df['end_act'].to_list()"
   ]
  },
  {
   "cell_type": "markdown",
   "metadata": {},
   "source": [
    "Validation Set"
   ]
  },
  {
   "cell_type": "code",
   "execution_count": 16,
   "metadata": {},
   "outputs": [],
   "source": [
    "mode = 'val'\n",
    "\n",
    "df = pd.read_csv(h2o_actions + 'action_val.txt', delimiter=' ')\n",
    "ids : list[int] = df['id'].to_list()\n",
    "paths : list[str] = df['path'].to_list()\n",
    "labels : list[int] = df['action_label'].to_list()\n",
    "start_act : list[int] = df['start_act'].to_list()\n",
    "end_act : list[int] = df['end_act'].to_list()"
   ]
  },
  {
   "cell_type": "markdown",
   "metadata": {},
   "source": [
    "## Action Labels"
   ]
  },
  {
   "cell_type": "code",
   "execution_count": 18,
   "metadata": {},
   "outputs": [],
   "source": [
    "path = h2o_root + 'action_labels_' + mode + '.npy'\n",
    "action_labels = np.array(labels)\n",
    "np.save(path, action_labels)"
   ]
  },
  {
   "cell_type": "markdown",
   "metadata": {},
   "source": [
    "## Frame Sequences"
   ]
  },
  {
   "cell_type": "markdown",
   "metadata": {},
   "source": [
    "Helper Functions"
   ]
  },
  {
   "cell_type": "code",
   "execution_count": 5,
   "metadata": {},
   "outputs": [],
   "source": [
    "def check_img_sample(img_path: str):\n",
    "    img = cv2.imread(img_path, cv2.IMREAD_COLOR)\n",
    "    print(\"Shape:\", img.shape)\n",
    "    print(\"dtype:\", img.dtype)\n",
    "\n",
    "    \n",
    "    cv2.waitKey(0)\n",
    "    cv2.destroyAllWindows()"
   ]
  },
  {
   "cell_type": "code",
   "execution_count": 6,
   "metadata": {},
   "outputs": [],
   "source": [
    "def sample_frame_sequence(path: str, start_act: int, end_act: int, n_frames_per_seq: int) -> NDArray:\n",
    "    \"\"\"\n",
    "    Sample the requested amount of frames from an action sequence in the dataset.\n",
    "\n",
    "    Args:\n",
    "    -----\n",
    "        path (str): path to the action sequence images\n",
    "        start_act (int): starting frame of the action\n",
    "        end_act (int): ending frame of the action\n",
    "        n_frames_per_seq (int): number of frames to sample\n",
    "\n",
    "    Returns:\n",
    "    --------\n",
    "        NDArray: array of the sampled frame sequence\n",
    "    \"\"\"\n",
    "    \n",
    "    n_frames_total = end_act-start_act+1 # total number of frames of the action in the dataset\n",
    "    assert n_frames_total >= n_frames_per_seq, f\"Requested {n_frames_per_seq} frames, but action has only {n_frames_total} frames\"\n",
    "\n",
    "    frame_ids = np.linspace(start_act, end_act, n_frames_per_seq, dtype=int)\n",
    "\n",
    "    frames : list[NDArray] = []\n",
    "    for i in range(n_frames_per_seq):\n",
    "        img_path = path + f'/{frame_ids[i]:05d}.jpg' # TODO how many digits?\n",
    "        img : NDArray = cv2.imread(img_path, cv2.IMREAD_COLOR)\n",
    "        \n",
    "        # TODO any conversions necessary? (RGB, uint8, ...)\n",
    "\n",
    "        frames.append(img)\n",
    "\n",
    "    return np.array(frames)"
   ]
  },
  {
   "cell_type": "markdown",
   "metadata": {},
   "source": [
    "#### Prepare Extraction\n",
    "\n",
    "Check whether the output image, as well as shape and type are correct."
   ]
  },
  {
   "cell_type": "code",
   "execution_count": 7,
   "metadata": {},
   "outputs": [
    {
     "name": "stdout",
     "output_type": "stream",
     "text": [
      "Shape: (1552, 1909, 3)\n",
      "dtype: uint8\n"
     ]
    }
   ],
   "source": [
    "dest_path = h2o_root + f'frame_seq_{n_frames_per_seq}_{mode}/' # TODO\n",
    "# check if destination folder exists, if not create it\n",
    "if not os.path.exists(dest_path):\n",
    "    os.makedirs(dest_path)\n",
    "\n",
    "check_img_sample(h2odataset_root + 'obj_point_order.jpg')"
   ]
  },
  {
   "cell_type": "markdown",
   "metadata": {},
   "source": [
    "#### Extraction"
   ]
  },
  {
   "cell_type": "code",
   "execution_count": null,
   "metadata": {},
   "outputs": [],
   "source": [
    "for i in tqdm(range(len(ids))):\n",
    "    id : int = ids[i]\n",
    "    path : str = paths[i]\n",
    "    # TODO what is the root of the image data?\n",
    "    frames = sample_frame_sequence(h2odataset_root + path, start_act[i], end_act[i], n_frames_per_seq)\n",
    "    np.save(dest_path + f'{ids[i]}.npy', frames)"
   ]
  },
  {
   "cell_type": "markdown",
   "metadata": {},
   "source": [
    "## Pose Sequences"
   ]
  }
 ],
 "metadata": {
  "kernelspec": {
   "display_name": "3dv",
   "language": "python",
   "name": "python3"
  },
  "language_info": {
   "codemirror_mode": {
    "name": "ipython",
    "version": 3
   },
   "file_extension": ".py",
   "mimetype": "text/x-python",
   "name": "python",
   "nbconvert_exporter": "python",
   "pygments_lexer": "ipython3",
   "version": "3.11.8"
  }
 },
 "nbformat": 4,
 "nbformat_minor": 2
}
